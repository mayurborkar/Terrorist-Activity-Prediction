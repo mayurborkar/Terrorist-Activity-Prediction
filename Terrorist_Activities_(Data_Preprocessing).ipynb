{
  "nbformat": 4,
  "nbformat_minor": 0,
  "metadata": {
    "colab": {
      "name": "Terrorist Activities (Data Preprocessing).ipynb",
      "provenance": [],
      "collapsed_sections": []
    },
    "kernelspec": {
      "name": "python3",
      "display_name": "Python 3"
    }
  },
  "cells": [
    {
      "cell_type": "code",
      "metadata": {
        "colab": {
          "base_uri": "https://localhost:8080/"
        },
        "id": "xjeW1RpboKhq",
        "outputId": "1f2ff835-9fa6-44f7-b125-da897ec9b217"
      },
      "source": [
        "from google.colab import drive\r\n",
        "drive.mount('/content/mydrive')"
      ],
      "execution_count": 3,
      "outputs": [
        {
          "output_type": "stream",
          "text": [
            "Mounted at /content/mydrive\n"
          ],
          "name": "stdout"
        }
      ]
    },
    {
      "cell_type": "code",
      "metadata": {
        "id": "uKHX7MWroV0z"
      },
      "source": [
        "import pandas as pd\r\n",
        "import numpy as np\r\n",
        "\r\n",
        "import plotly.offline as py\r\n",
        "import plotly.graph_objs as go\r\n",
        "import matplotlib.pyplot as plt\r\n",
        "import seaborn as sns\r\n",
        "\r\n",
        "pd.set_option('display.max_columns', None)\r\n",
        "\r\n",
        "%matplotlib inline"
      ],
      "execution_count": 4,
      "outputs": []
    },
    {
      "cell_type": "code",
      "metadata": {
        "colab": {
          "base_uri": "https://localhost:8080/",
          "height": 284
        },
        "id": "Lc6UGwYwoo69",
        "outputId": "bc2d4f5f-9517-4740-de34-f0219e7bc9eb"
      },
      "source": [
        "col_list = ['iyear', 'imonth','iday','extended','provstate','latitude','longitude','specificity','vicinity','crit1','crit2','crit3','doubtterr',\r\n",
        "'multiple', 'natlty1','propextent','ishostkid','ransom','country','city','gname','individual','nkillus','nkillter','nwound','nwoundus',\r\n",
        "'nwoundte','property','targtype1','suicide','success','weaptype1','region','attacktype1']\r\n",
        "\r\n",
        "df = pd.read_csv('/content/mydrive/MyDrive/Colab Notebooks 2/Terrorist Prediction/Global Terrorist.csv', usecols=col_list, encoding='ISO-8859-1')\r\n",
        "df.head()"
      ],
      "execution_count": 6,
      "outputs": [
        {
          "output_type": "execute_result",
          "data": {
            "text/html": [
              "<div>\n",
              "<style scoped>\n",
              "    .dataframe tbody tr th:only-of-type {\n",
              "        vertical-align: middle;\n",
              "    }\n",
              "\n",
              "    .dataframe tbody tr th {\n",
              "        vertical-align: top;\n",
              "    }\n",
              "\n",
              "    .dataframe thead th {\n",
              "        text-align: right;\n",
              "    }\n",
              "</style>\n",
              "<table border=\"1\" class=\"dataframe\">\n",
              "  <thead>\n",
              "    <tr style=\"text-align: right;\">\n",
              "      <th></th>\n",
              "      <th>iyear</th>\n",
              "      <th>imonth</th>\n",
              "      <th>iday</th>\n",
              "      <th>extended</th>\n",
              "      <th>country</th>\n",
              "      <th>region</th>\n",
              "      <th>provstate</th>\n",
              "      <th>city</th>\n",
              "      <th>latitude</th>\n",
              "      <th>longitude</th>\n",
              "      <th>specificity</th>\n",
              "      <th>vicinity</th>\n",
              "      <th>crit1</th>\n",
              "      <th>crit2</th>\n",
              "      <th>crit3</th>\n",
              "      <th>doubtterr</th>\n",
              "      <th>multiple</th>\n",
              "      <th>success</th>\n",
              "      <th>suicide</th>\n",
              "      <th>attacktype1</th>\n",
              "      <th>targtype1</th>\n",
              "      <th>natlty1</th>\n",
              "      <th>gname</th>\n",
              "      <th>individual</th>\n",
              "      <th>weaptype1</th>\n",
              "      <th>nkillus</th>\n",
              "      <th>nkillter</th>\n",
              "      <th>nwound</th>\n",
              "      <th>nwoundus</th>\n",
              "      <th>nwoundte</th>\n",
              "      <th>property</th>\n",
              "      <th>propextent</th>\n",
              "      <th>ishostkid</th>\n",
              "      <th>ransom</th>\n",
              "    </tr>\n",
              "  </thead>\n",
              "  <tbody>\n",
              "    <tr>\n",
              "      <th>0</th>\n",
              "      <td>1970</td>\n",
              "      <td>7</td>\n",
              "      <td>2</td>\n",
              "      <td>0</td>\n",
              "      <td>58</td>\n",
              "      <td>2</td>\n",
              "      <td>NaN</td>\n",
              "      <td>Santo Domingo</td>\n",
              "      <td>18.456792</td>\n",
              "      <td>-69.951164</td>\n",
              "      <td>1.0</td>\n",
              "      <td>0</td>\n",
              "      <td>1</td>\n",
              "      <td>1</td>\n",
              "      <td>1</td>\n",
              "      <td>0.0</td>\n",
              "      <td>0.0</td>\n",
              "      <td>1</td>\n",
              "      <td>0</td>\n",
              "      <td>1</td>\n",
              "      <td>14</td>\n",
              "      <td>58.0</td>\n",
              "      <td>MANO-D</td>\n",
              "      <td>0</td>\n",
              "      <td>13</td>\n",
              "      <td>NaN</td>\n",
              "      <td>NaN</td>\n",
              "      <td>0.0</td>\n",
              "      <td>NaN</td>\n",
              "      <td>NaN</td>\n",
              "      <td>0</td>\n",
              "      <td>NaN</td>\n",
              "      <td>0.0</td>\n",
              "      <td>0.0</td>\n",
              "    </tr>\n",
              "    <tr>\n",
              "      <th>1</th>\n",
              "      <td>1970</td>\n",
              "      <td>0</td>\n",
              "      <td>0</td>\n",
              "      <td>0</td>\n",
              "      <td>130</td>\n",
              "      <td>1</td>\n",
              "      <td>Federal</td>\n",
              "      <td>Mexico city</td>\n",
              "      <td>19.371887</td>\n",
              "      <td>-99.086624</td>\n",
              "      <td>1.0</td>\n",
              "      <td>0</td>\n",
              "      <td>1</td>\n",
              "      <td>1</td>\n",
              "      <td>1</td>\n",
              "      <td>0.0</td>\n",
              "      <td>0.0</td>\n",
              "      <td>1</td>\n",
              "      <td>0</td>\n",
              "      <td>6</td>\n",
              "      <td>7</td>\n",
              "      <td>21.0</td>\n",
              "      <td>23rd of September Communist League</td>\n",
              "      <td>0</td>\n",
              "      <td>13</td>\n",
              "      <td>NaN</td>\n",
              "      <td>NaN</td>\n",
              "      <td>0.0</td>\n",
              "      <td>NaN</td>\n",
              "      <td>NaN</td>\n",
              "      <td>0</td>\n",
              "      <td>NaN</td>\n",
              "      <td>1.0</td>\n",
              "      <td>1.0</td>\n",
              "    </tr>\n",
              "    <tr>\n",
              "      <th>2</th>\n",
              "      <td>1970</td>\n",
              "      <td>1</td>\n",
              "      <td>0</td>\n",
              "      <td>0</td>\n",
              "      <td>160</td>\n",
              "      <td>5</td>\n",
              "      <td>Tarlac</td>\n",
              "      <td>Unknown</td>\n",
              "      <td>15.478598</td>\n",
              "      <td>120.599741</td>\n",
              "      <td>4.0</td>\n",
              "      <td>0</td>\n",
              "      <td>1</td>\n",
              "      <td>1</td>\n",
              "      <td>1</td>\n",
              "      <td>0.0</td>\n",
              "      <td>0.0</td>\n",
              "      <td>1</td>\n",
              "      <td>0</td>\n",
              "      <td>1</td>\n",
              "      <td>10</td>\n",
              "      <td>217.0</td>\n",
              "      <td>Unknown</td>\n",
              "      <td>0</td>\n",
              "      <td>13</td>\n",
              "      <td>NaN</td>\n",
              "      <td>NaN</td>\n",
              "      <td>0.0</td>\n",
              "      <td>NaN</td>\n",
              "      <td>NaN</td>\n",
              "      <td>0</td>\n",
              "      <td>NaN</td>\n",
              "      <td>0.0</td>\n",
              "      <td>0.0</td>\n",
              "    </tr>\n",
              "    <tr>\n",
              "      <th>3</th>\n",
              "      <td>1970</td>\n",
              "      <td>1</td>\n",
              "      <td>0</td>\n",
              "      <td>0</td>\n",
              "      <td>78</td>\n",
              "      <td>8</td>\n",
              "      <td>Attica</td>\n",
              "      <td>Athens</td>\n",
              "      <td>37.997490</td>\n",
              "      <td>23.762728</td>\n",
              "      <td>1.0</td>\n",
              "      <td>0</td>\n",
              "      <td>1</td>\n",
              "      <td>1</td>\n",
              "      <td>1</td>\n",
              "      <td>0.0</td>\n",
              "      <td>0.0</td>\n",
              "      <td>1</td>\n",
              "      <td>0</td>\n",
              "      <td>3</td>\n",
              "      <td>7</td>\n",
              "      <td>217.0</td>\n",
              "      <td>Unknown</td>\n",
              "      <td>0</td>\n",
              "      <td>6</td>\n",
              "      <td>NaN</td>\n",
              "      <td>NaN</td>\n",
              "      <td>NaN</td>\n",
              "      <td>NaN</td>\n",
              "      <td>NaN</td>\n",
              "      <td>1</td>\n",
              "      <td>NaN</td>\n",
              "      <td>0.0</td>\n",
              "      <td>0.0</td>\n",
              "    </tr>\n",
              "    <tr>\n",
              "      <th>4</th>\n",
              "      <td>1970</td>\n",
              "      <td>1</td>\n",
              "      <td>0</td>\n",
              "      <td>0</td>\n",
              "      <td>101</td>\n",
              "      <td>4</td>\n",
              "      <td>Fukouka</td>\n",
              "      <td>Fukouka</td>\n",
              "      <td>33.580412</td>\n",
              "      <td>130.396361</td>\n",
              "      <td>1.0</td>\n",
              "      <td>0</td>\n",
              "      <td>1</td>\n",
              "      <td>1</td>\n",
              "      <td>1</td>\n",
              "      <td>-9.0</td>\n",
              "      <td>0.0</td>\n",
              "      <td>1</td>\n",
              "      <td>0</td>\n",
              "      <td>7</td>\n",
              "      <td>7</td>\n",
              "      <td>217.0</td>\n",
              "      <td>Unknown</td>\n",
              "      <td>0</td>\n",
              "      <td>8</td>\n",
              "      <td>NaN</td>\n",
              "      <td>NaN</td>\n",
              "      <td>NaN</td>\n",
              "      <td>NaN</td>\n",
              "      <td>NaN</td>\n",
              "      <td>1</td>\n",
              "      <td>NaN</td>\n",
              "      <td>0.0</td>\n",
              "      <td>0.0</td>\n",
              "    </tr>\n",
              "  </tbody>\n",
              "</table>\n",
              "</div>"
            ],
            "text/plain": [
              "   iyear  imonth  iday  extended  country  region provstate           city  \\\n",
              "0   1970       7     2         0       58       2       NaN  Santo Domingo   \n",
              "1   1970       0     0         0      130       1   Federal    Mexico city   \n",
              "2   1970       1     0         0      160       5    Tarlac        Unknown   \n",
              "3   1970       1     0         0       78       8    Attica         Athens   \n",
              "4   1970       1     0         0      101       4   Fukouka        Fukouka   \n",
              "\n",
              "    latitude   longitude  specificity  vicinity  crit1  crit2  crit3  \\\n",
              "0  18.456792  -69.951164          1.0         0      1      1      1   \n",
              "1  19.371887  -99.086624          1.0         0      1      1      1   \n",
              "2  15.478598  120.599741          4.0         0      1      1      1   \n",
              "3  37.997490   23.762728          1.0         0      1      1      1   \n",
              "4  33.580412  130.396361          1.0         0      1      1      1   \n",
              "\n",
              "   doubtterr  multiple  success  suicide  attacktype1  targtype1  natlty1  \\\n",
              "0        0.0       0.0        1        0            1         14     58.0   \n",
              "1        0.0       0.0        1        0            6          7     21.0   \n",
              "2        0.0       0.0        1        0            1         10    217.0   \n",
              "3        0.0       0.0        1        0            3          7    217.0   \n",
              "4       -9.0       0.0        1        0            7          7    217.0   \n",
              "\n",
              "                                gname  individual  weaptype1  nkillus  \\\n",
              "0                              MANO-D           0         13      NaN   \n",
              "1  23rd of September Communist League           0         13      NaN   \n",
              "2                             Unknown           0         13      NaN   \n",
              "3                             Unknown           0          6      NaN   \n",
              "4                             Unknown           0          8      NaN   \n",
              "\n",
              "   nkillter  nwound  nwoundus  nwoundte  property  propextent  ishostkid  \\\n",
              "0       NaN     0.0       NaN       NaN         0         NaN        0.0   \n",
              "1       NaN     0.0       NaN       NaN         0         NaN        1.0   \n",
              "2       NaN     0.0       NaN       NaN         0         NaN        0.0   \n",
              "3       NaN     NaN       NaN       NaN         1         NaN        0.0   \n",
              "4       NaN     NaN       NaN       NaN         1         NaN        0.0   \n",
              "\n",
              "   ransom  \n",
              "0     0.0  \n",
              "1     1.0  \n",
              "2     0.0  \n",
              "3     0.0  \n",
              "4     0.0  "
            ]
          },
          "metadata": {
            "tags": []
          },
          "execution_count": 6
        }
      ]
    },
    {
      "cell_type": "code",
      "metadata": {
        "colab": {
          "base_uri": "https://localhost:8080/"
        },
        "id": "-0aBCvPYotXC",
        "outputId": "8179cdb8-cb00-4695-9b8c-64934e52b6a7"
      },
      "source": [
        "df.info()"
      ],
      "execution_count": 7,
      "outputs": [
        {
          "output_type": "stream",
          "text": [
            "<class 'pandas.core.frame.DataFrame'>\n",
            "RangeIndex: 181691 entries, 0 to 181690\n",
            "Data columns (total 34 columns):\n",
            " #   Column       Non-Null Count   Dtype  \n",
            "---  ------       --------------   -----  \n",
            " 0   iyear        181691 non-null  int64  \n",
            " 1   imonth       181691 non-null  int64  \n",
            " 2   iday         181691 non-null  int64  \n",
            " 3   extended     181691 non-null  int64  \n",
            " 4   country      181691 non-null  int64  \n",
            " 5   region       181691 non-null  int64  \n",
            " 6   provstate    181270 non-null  object \n",
            " 7   city         181257 non-null  object \n",
            " 8   latitude     177135 non-null  float64\n",
            " 9   longitude    177134 non-null  float64\n",
            " 10  specificity  181685 non-null  float64\n",
            " 11  vicinity     181691 non-null  int64  \n",
            " 12  crit1        181691 non-null  int64  \n",
            " 13  crit2        181691 non-null  int64  \n",
            " 14  crit3        181691 non-null  int64  \n",
            " 15  doubtterr    181690 non-null  float64\n",
            " 16  multiple     181690 non-null  float64\n",
            " 17  success      181691 non-null  int64  \n",
            " 18  suicide      181691 non-null  int64  \n",
            " 19  attacktype1  181691 non-null  int64  \n",
            " 20  targtype1    181691 non-null  int64  \n",
            " 21  natlty1      180132 non-null  float64\n",
            " 22  gname        181691 non-null  object \n",
            " 23  individual   181691 non-null  int64  \n",
            " 24  weaptype1    181691 non-null  int64  \n",
            " 25  nkillus      117245 non-null  float64\n",
            " 26  nkillter     114733 non-null  float64\n",
            " 27  nwound       165380 non-null  float64\n",
            " 28  nwoundus     116989 non-null  float64\n",
            " 29  nwoundte     112548 non-null  float64\n",
            " 30  property     181691 non-null  int64  \n",
            " 31  propextent   64065 non-null   float64\n",
            " 32  ishostkid    181513 non-null  float64\n",
            " 33  ransom       77381 non-null   float64\n",
            "dtypes: float64(14), int64(17), object(3)\n",
            "memory usage: 47.1+ MB\n"
          ],
          "name": "stdout"
        }
      ]
    },
    {
      "cell_type": "code",
      "metadata": {
        "colab": {
          "base_uri": "https://localhost:8080/",
          "height": 500
        },
        "id": "aN17Sf0QpUKp",
        "outputId": "e1b45f4d-4f09-437c-ed52-f87b86cf27a1"
      },
      "source": [
        "plt.figure(figsize=(10,7))\r\n",
        "sns.heatmap(df.isnull(),cmap='coolwarm')"
      ],
      "execution_count": 8,
      "outputs": [
        {
          "output_type": "execute_result",
          "data": {
            "text/plain": [
              "<matplotlib.axes._subplots.AxesSubplot at 0x7f373a969898>"
            ]
          },
          "metadata": {
            "tags": []
          },
          "execution_count": 8
        },
        {
          "output_type": "display_data",
          "data": {
            "image/png": "[encoded data removed]",
            "text/plain": [
              "<Figure size 720x504 with 2 Axes>"
            ]
          },
          "metadata": {
            "tags": [],
            "needs_background": "light"
          }
        }
      ]
    },
    {
      "cell_type": "markdown",
      "metadata": {
        "id": "o8oesYcKrQmw"
      },
      "source": [
        "1. Selecting a column according to they have arraged in dataset \r\n",
        "2. The Provstate, city and gname column are categorical column, so we deal with later\r\n",
        "3. The latitude,longitude columns we delete from the dataset"
      ]
    },
    {
      "cell_type": "code",
      "metadata": {
        "colab": {
          "base_uri": "https://localhost:8080/",
          "height": 284
        },
        "id": "tM6Lu7bfpgbd",
        "outputId": "9562b8b9-d7bc-45ed-dfd7-1807ffc0f98e"
      },
      "source": [
        "df=df.drop(['latitude','longitude'],axis=1)\r\n",
        "df.head()"
      ],
      "execution_count": 9,
      "outputs": [
        {
          "output_type": "execute_result",
          "data": {
            "text/html": [
              "<div>\n",
              "<style scoped>\n",
              "    .dataframe tbody tr th:only-of-type {\n",
              "        vertical-align: middle;\n",
              "    }\n",
              "\n",
              "    .dataframe tbody tr th {\n",
              "        vertical-align: top;\n",
              "    }\n",
              "\n",
              "    .dataframe thead th {\n",
              "        text-align: right;\n",
              "    }\n",
              "</style>\n",
              "<table border=\"1\" class=\"dataframe\">\n",
              "  <thead>\n",
              "    <tr style=\"text-align: right;\">\n",
              "      <th></th>\n",
              "      <th>iyear</th>\n",
              "      <th>imonth</th>\n",
              "      <th>iday</th>\n",
              "      <th>extended</th>\n",
              "      <th>country</th>\n",
              "      <th>region</th>\n",
              "      <th>provstate</th>\n",
              "      <th>city</th>\n",
              "      <th>specificity</th>\n",
              "      <th>vicinity</th>\n",
              "      <th>crit1</th>\n",
              "      <th>crit2</th>\n",
              "      <th>crit3</th>\n",
              "      <th>doubtterr</th>\n",
              "      <th>multiple</th>\n",
              "      <th>success</th>\n",
              "      <th>suicide</th>\n",
              "      <th>attacktype1</th>\n",
              "      <th>targtype1</th>\n",
              "      <th>natlty1</th>\n",
              "      <th>gname</th>\n",
              "      <th>individual</th>\n",
              "      <th>weaptype1</th>\n",
              "      <th>nkillus</th>\n",
              "      <th>nkillter</th>\n",
              "      <th>nwound</th>\n",
              "      <th>nwoundus</th>\n",
              "      <th>nwoundte</th>\n",
              "      <th>property</th>\n",
              "      <th>propextent</th>\n",
              "      <th>ishostkid</th>\n",
              "      <th>ransom</th>\n",
              "    </tr>\n",
              "  </thead>\n",
              "  <tbody>\n",
              "    <tr>\n",
              "      <th>0</th>\n",
              "      <td>1970</td>\n",
              "      <td>7</td>\n",
              "      <td>2</td>\n",
              "      <td>0</td>\n",
              "      <td>58</td>\n",
              "      <td>2</td>\n",
              "      <td>NaN</td>\n",
              "      <td>Santo Domingo</td>\n",
              "      <td>1.0</td>\n",
              "      <td>0</td>\n",
              "      <td>1</td>\n",
              "      <td>1</td>\n",
              "      <td>1</td>\n",
              "      <td>0.0</td>\n",
              "      <td>0.0</td>\n",
              "      <td>1</td>\n",
              "      <td>0</td>\n",
              "      <td>1</td>\n",
              "      <td>14</td>\n",
              "      <td>58.0</td>\n",
              "      <td>MANO-D</td>\n",
              "      <td>0</td>\n",
              "      <td>13</td>\n",
              "      <td>NaN</td>\n",
              "      <td>NaN</td>\n",
              "      <td>0.0</td>\n",
              "      <td>NaN</td>\n",
              "      <td>NaN</td>\n",
              "      <td>0</td>\n",
              "      <td>NaN</td>\n",
              "      <td>0.0</td>\n",
              "      <td>0.0</td>\n",
              "    </tr>\n",
              "    <tr>\n",
              "      <th>1</th>\n",
              "      <td>1970</td>\n",
              "      <td>0</td>\n",
              "      <td>0</td>\n",
              "      <td>0</td>\n",
              "      <td>130</td>\n",
              "      <td>1</td>\n",
              "      <td>Federal</td>\n",
              "      <td>Mexico city</td>\n",
              "      <td>1.0</td>\n",
              "      <td>0</td>\n",
              "      <td>1</td>\n",
              "      <td>1</td>\n",
              "      <td>1</td>\n",
              "      <td>0.0</td>\n",
              "      <td>0.0</td>\n",
              "      <td>1</td>\n",
              "      <td>0</td>\n",
              "      <td>6</td>\n",
              "      <td>7</td>\n",
              "      <td>21.0</td>\n",
              "      <td>23rd of September Communist League</td>\n",
              "      <td>0</td>\n",
              "      <td>13</td>\n",
              "      <td>NaN</td>\n",
              "      <td>NaN</td>\n",
              "      <td>0.0</td>\n",
              "      <td>NaN</td>\n",
              "      <td>NaN</td>\n",
              "      <td>0</td>\n",
              "      <td>NaN</td>\n",
              "      <td>1.0</td>\n",
              "      <td>1.0</td>\n",
              "    </tr>\n",
              "    <tr>\n",
              "      <th>2</th>\n",
              "      <td>1970</td>\n",
              "      <td>1</td>\n",
              "      <td>0</td>\n",
              "      <td>0</td>\n",
              "      <td>160</td>\n",
              "      <td>5</td>\n",
              "      <td>Tarlac</td>\n",
              "      <td>Unknown</td>\n",
              "      <td>4.0</td>\n",
              "      <td>0</td>\n",
              "      <td>1</td>\n",
              "      <td>1</td>\n",
              "      <td>1</td>\n",
              "      <td>0.0</td>\n",
              "      <td>0.0</td>\n",
              "      <td>1</td>\n",
              "      <td>0</td>\n",
              "      <td>1</td>\n",
              "      <td>10</td>\n",
              "      <td>217.0</td>\n",
              "      <td>Unknown</td>\n",
              "      <td>0</td>\n",
              "      <td>13</td>\n",
              "      <td>NaN</td>\n",
              "      <td>NaN</td>\n",
              "      <td>0.0</td>\n",
              "      <td>NaN</td>\n",
              "      <td>NaN</td>\n",
              "      <td>0</td>\n",
              "      <td>NaN</td>\n",
              "      <td>0.0</td>\n",
              "      <td>0.0</td>\n",
              "    </tr>\n",
              "    <tr>\n",
              "      <th>3</th>\n",
              "      <td>1970</td>\n",
              "      <td>1</td>\n",
              "      <td>0</td>\n",
              "      <td>0</td>\n",
              "      <td>78</td>\n",
              "      <td>8</td>\n",
              "      <td>Attica</td>\n",
              "      <td>Athens</td>\n",
              "      <td>1.0</td>\n",
              "      <td>0</td>\n",
              "      <td>1</td>\n",
              "      <td>1</td>\n",
              "      <td>1</td>\n",
              "      <td>0.0</td>\n",
              "      <td>0.0</td>\n",
              "      <td>1</td>\n",
              "      <td>0</td>\n",
              "      <td>3</td>\n",
              "      <td>7</td>\n",
              "      <td>217.0</td>\n",
              "      <td>Unknown</td>\n",
              "      <td>0</td>\n",
              "      <td>6</td>\n",
              "      <td>NaN</td>\n",
              "      <td>NaN</td>\n",
              "      <td>NaN</td>\n",
              "      <td>NaN</td>\n",
              "      <td>NaN</td>\n",
              "      <td>1</td>\n",
              "      <td>NaN</td>\n",
              "      <td>0.0</td>\n",
              "      <td>0.0</td>\n",
              "    </tr>\n",
              "    <tr>\n",
              "      <th>4</th>\n",
              "      <td>1970</td>\n",
              "      <td>1</td>\n",
              "      <td>0</td>\n",
              "      <td>0</td>\n",
              "      <td>101</td>\n",
              "      <td>4</td>\n",
              "      <td>Fukouka</td>\n",
              "      <td>Fukouka</td>\n",
              "      <td>1.0</td>\n",
              "      <td>0</td>\n",
              "      <td>1</td>\n",
              "      <td>1</td>\n",
              "      <td>1</td>\n",
              "      <td>-9.0</td>\n",
              "      <td>0.0</td>\n",
              "      <td>1</td>\n",
              "      <td>0</td>\n",
              "      <td>7</td>\n",
              "      <td>7</td>\n",
              "      <td>217.0</td>\n",
              "      <td>Unknown</td>\n",
              "      <td>0</td>\n",
              "      <td>8</td>\n",
              "      <td>NaN</td>\n",
              "      <td>NaN</td>\n",
              "      <td>NaN</td>\n",
              "      <td>NaN</td>\n",
              "      <td>NaN</td>\n",
              "      <td>1</td>\n",
              "      <td>NaN</td>\n",
              "      <td>0.0</td>\n",
              "      <td>0.0</td>\n",
              "    </tr>\n",
              "  </tbody>\n",
              "</table>\n",
              "</div>"
            ],
            "text/plain": [
              "   iyear  imonth  iday  extended  country  region provstate           city  \\\n",
              "0   1970       7     2         0       58       2       NaN  Santo Domingo   \n",
              "1   1970       0     0         0      130       1   Federal    Mexico city   \n",
              "2   1970       1     0         0      160       5    Tarlac        Unknown   \n",
              "3   1970       1     0         0       78       8    Attica         Athens   \n",
              "4   1970       1     0         0      101       4   Fukouka        Fukouka   \n",
              "\n",
              "   specificity  vicinity  crit1  crit2  crit3  doubtterr  multiple  success  \\\n",
              "0          1.0         0      1      1      1        0.0       0.0        1   \n",
              "1          1.0         0      1      1      1        0.0       0.0        1   \n",
              "2          4.0         0      1      1      1        0.0       0.0        1   \n",
              "3          1.0         0      1      1      1        0.0       0.0        1   \n",
              "4          1.0         0      1      1      1       -9.0       0.0        1   \n",
              "\n",
              "   suicide  attacktype1  targtype1  natlty1  \\\n",
              "0        0            1         14     58.0   \n",
              "1        0            6          7     21.0   \n",
              "2        0            1         10    217.0   \n",
              "3        0            3          7    217.0   \n",
              "4        0            7          7    217.0   \n",
              "\n",
              "                                gname  individual  weaptype1  nkillus  \\\n",
              "0                              MANO-D           0         13      NaN   \n",
              "1  23rd of September Communist League           0         13      NaN   \n",
              "2                             Unknown           0         13      NaN   \n",
              "3                             Unknown           0          6      NaN   \n",
              "4                             Unknown           0          8      NaN   \n",
              "\n",
              "   nkillter  nwound  nwoundus  nwoundte  property  propextent  ishostkid  \\\n",
              "0       NaN     0.0       NaN       NaN         0         NaN        0.0   \n",
              "1       NaN     0.0       NaN       NaN         0         NaN        1.0   \n",
              "2       NaN     0.0       NaN       NaN         0         NaN        0.0   \n",
              "3       NaN     NaN       NaN       NaN         1         NaN        0.0   \n",
              "4       NaN     NaN       NaN       NaN         1         NaN        0.0   \n",
              "\n",
              "   ransom  \n",
              "0     0.0  \n",
              "1     1.0  \n",
              "2     0.0  \n",
              "3     0.0  \n",
              "4     0.0  "
            ]
          },
          "metadata": {
            "tags": []
          },
          "execution_count": 9
        }
      ]
    },
    {
      "cell_type": "markdown",
      "metadata": {
        "id": "AMhzLrydtBcP"
      },
      "source": [
        "We are dealing with the **SPECIFICITY** columns"
      ]
    },
    {
      "cell_type": "code",
      "metadata": {
        "colab": {
          "base_uri": "https://localhost:8080/"
        },
        "id": "y-XN8xLWrz2_",
        "outputId": "fd7f7f4c-d102-49f3-92d4-ab84e98230d9"
      },
      "source": [
        "df.specificity.value_counts()"
      ],
      "execution_count": 14,
      "outputs": [
        {
          "output_type": "execute_result",
          "data": {
            "text/plain": [
              "1.0    144996\n",
              "3.0     14615\n",
              "2.0      8990\n",
              "4.0      8534\n",
              "5.0      4550\n",
              "Name: specificity, dtype: int64"
            ]
          },
          "metadata": {
            "tags": []
          },
          "execution_count": 14
        }
      ]
    },
    {
      "cell_type": "code",
      "metadata": {
        "colab": {
          "base_uri": "https://localhost:8080/"
        },
        "id": "6aZtMttFsJJ3",
        "outputId": "2d754ff8-0770-4c90-e60a-79214ce00055"
      },
      "source": [
        "df.specificity.any()"
      ],
      "execution_count": 11,
      "outputs": [
        {
          "output_type": "execute_result",
          "data": {
            "text/plain": [
              "True"
            ]
          },
          "metadata": {
            "tags": []
          },
          "execution_count": 11
        }
      ]
    },
    {
      "cell_type": "code",
      "metadata": {
        "colab": {
          "base_uri": "https://localhost:8080/"
        },
        "id": "MGl0pk3-sQgv",
        "outputId": "40ebda3b-3ab6-4487-ee97-b8332d57e8b1"
      },
      "source": [
        "df.specificity.isnull().sum()"
      ],
      "execution_count": 13,
      "outputs": [
        {
          "output_type": "execute_result",
          "data": {
            "text/plain": [
              "6"
            ]
          },
          "metadata": {
            "tags": []
          },
          "execution_count": 13
        }
      ]
    },
    {
      "cell_type": "code",
      "metadata": {
        "id": "ZVymmZE2soNK"
      },
      "source": [
        "df['specificity']=df['specificity'].fillna(1.0)"
      ],
      "execution_count": 15,
      "outputs": []
    },
    {
      "cell_type": "markdown",
      "metadata": {
        "id": "lbsGVZ2oti0n"
      },
      "source": [
        "We are dealing with **DOUBTTER** & **MULTIPLE** columns"
      ]
    },
    {
      "cell_type": "code",
      "metadata": {
        "colab": {
          "base_uri": "https://localhost:8080/"
        },
        "id": "kNLU7XAKtVfX",
        "outputId": "c72e7954-aab7-4016-89df-809d97a2697c"
      },
      "source": [
        "df.doubtterr.isnull().sum()"
      ],
      "execution_count": 19,
      "outputs": [
        {
          "output_type": "execute_result",
          "data": {
            "text/plain": [
              "1"
            ]
          },
          "metadata": {
            "tags": []
          },
          "execution_count": 19
        }
      ]
    },
    {
      "cell_type": "code",
      "metadata": {
        "colab": {
          "base_uri": "https://localhost:8080/"
        },
        "id": "BO43bGkWt21k",
        "outputId": "fb50524c-ecfc-4509-e2fa-3caa04bf6b1d"
      },
      "source": [
        "df.multiple.isnull().sum()"
      ],
      "execution_count": 20,
      "outputs": [
        {
          "output_type": "execute_result",
          "data": {
            "text/plain": [
              "1"
            ]
          },
          "metadata": {
            "tags": []
          },
          "execution_count": 20
        }
      ]
    },
    {
      "cell_type": "code",
      "metadata": {
        "colab": {
          "base_uri": "https://localhost:8080/"
        },
        "id": "xbYzLbRvujWf",
        "outputId": "9ef219c1-7a86-44dc-c7e1-91702255d9b0"
      },
      "source": [
        "df.doubtterr.value_counts()"
      ],
      "execution_count": 21,
      "outputs": [
        {
          "output_type": "execute_result",
          "data": {
            "text/plain": [
              " 0.0    138905\n",
              " 1.0     29001\n",
              "-9.0     13784\n",
              "Name: doubtterr, dtype: int64"
            ]
          },
          "metadata": {
            "tags": []
          },
          "execution_count": 21
        }
      ]
    },
    {
      "cell_type": "code",
      "metadata": {
        "colab": {
          "base_uri": "https://localhost:8080/"
        },
        "id": "IAUMVXqxusJs",
        "outputId": "4f364e58-4000-4af6-8588-331490817d89"
      },
      "source": [
        "df.multiple.value_counts()"
      ],
      "execution_count": 22,
      "outputs": [
        {
          "output_type": "execute_result",
          "data": {
            "text/plain": [
              "0.0    156658\n",
              "1.0     25032\n",
              "Name: multiple, dtype: int64"
            ]
          },
          "metadata": {
            "tags": []
          },
          "execution_count": 22
        }
      ]
    },
    {
      "cell_type": "code",
      "metadata": {
        "id": "XWheKbpluwuA"
      },
      "source": [
        "df['doubtterr']=df['doubtterr'].fillna(1.0)\r\n",
        "df['multiple']=df['multiple'].fillna(1.0)"
      ],
      "execution_count": 23,
      "outputs": []
    },
    {
      "cell_type": "markdown",
      "metadata": {
        "id": "C5ED_WsevgEj"
      },
      "source": [
        "We are dealing with **NATLTY1** columns"
      ]
    },
    {
      "cell_type": "code",
      "metadata": {
        "colab": {
          "base_uri": "https://localhost:8080/"
        },
        "id": "lqFnraQPvSuI",
        "outputId": "a3351b9b-5fe8-4e5e-8ad0-bd7e4162782d"
      },
      "source": [
        "df.natlty1.isnull().sum()"
      ],
      "execution_count": 26,
      "outputs": [
        {
          "output_type": "execute_result",
          "data": {
            "text/plain": [
              "1559"
            ]
          },
          "metadata": {
            "tags": []
          },
          "execution_count": 26
        }
      ]
    },
    {
      "cell_type": "code",
      "metadata": {
        "colab": {
          "base_uri": "https://localhost:8080/"
        },
        "id": "2Wm75MWJ9PxS",
        "outputId": "ec464d50-795e-4202-d01f-0aab9168c641"
      },
      "source": [
        "df.natlty1.mean()"
      ],
      "execution_count": 27,
      "outputs": [
        {
          "output_type": "execute_result",
          "data": {
            "text/plain": [
              "127.68644105433793"
            ]
          },
          "metadata": {
            "tags": []
          },
          "execution_count": 27
        }
      ]
    },
    {
      "cell_type": "code",
      "metadata": {
        "colab": {
          "base_uri": "https://localhost:8080/"
        },
        "id": "elP09Cd29Vl2",
        "outputId": "9c115807-0e00-41d0-d121-333f4ef80e50"
      },
      "source": [
        "df.natlty1.median()"
      ],
      "execution_count": 28,
      "outputs": [
        {
          "output_type": "execute_result",
          "data": {
            "text/plain": [
              "101.0"
            ]
          },
          "metadata": {
            "tags": []
          },
          "execution_count": 28
        }
      ]
    },
    {
      "cell_type": "code",
      "metadata": {
        "colab": {
          "base_uri": "https://localhost:8080/"
        },
        "id": "B5MiBJ_J9YaI",
        "outputId": "96ed377e-1e15-4859-99b0-3fc1f27857b6"
      },
      "source": [
        "df.natlty1.mode()"
      ],
      "execution_count": 29,
      "outputs": [
        {
          "output_type": "execute_result",
          "data": {
            "text/plain": [
              "0    95.0\n",
              "dtype: float64"
            ]
          },
          "metadata": {
            "tags": []
          },
          "execution_count": 29
        }
      ]
    },
    {
      "cell_type": "code",
      "metadata": {
        "colab": {
          "base_uri": "https://localhost:8080/"
        },
        "id": "Hcfjtxb29cDF",
        "outputId": "12091b92-f7ed-4179-b7c6-82955bf45fc0"
      },
      "source": [
        "df.natlty1.value_counts()"
      ],
      "execution_count": 30,
      "outputs": [
        {
          "output_type": "execute_result",
          "data": {
            "text/plain": [
              "95.0     24113\n",
              "153.0    13900\n",
              "92.0     12098\n",
              "4.0      10931\n",
              "45.0      7922\n",
              "         ...  \n",
              "349.0        1\n",
              "351.0        1\n",
              "169.0        1\n",
              "79.0         1\n",
              "605.0        1\n",
              "Name: natlty1, Length: 215, dtype: int64"
            ]
          },
          "metadata": {
            "tags": []
          },
          "execution_count": 30
        }
      ]
    },
    {
      "cell_type": "code",
      "metadata": {
        "id": "PPn7vo0P9qF4"
      },
      "source": [
        "df['natlty1']=df['natlty1'].fillna(df['natlty1'].mode()[0])"
      ],
      "execution_count": 33,
      "outputs": []
    },
    {
      "cell_type": "markdown",
      "metadata": {
        "id": "bv_LETRD-V3J"
      },
      "source": [
        "We are dealing with **NKILLUS** columns"
      ]
    },
    {
      "cell_type": "code",
      "metadata": {
        "colab": {
          "base_uri": "https://localhost:8080/"
        },
        "id": "TzbKjpTC-GVk",
        "outputId": "bf09d308-9f4f-4c4a-b7a4-6e8a72503a3d"
      },
      "source": [
        "df.nkillus.value_counts()"
      ],
      "execution_count": 35,
      "outputs": [
        {
          "output_type": "execute_result",
          "data": {
            "text/plain": [
              "0.0       116344\n",
              "1.0          589\n",
              "2.0          159\n",
              "3.0           53\n",
              "4.0           32\n",
              "5.0           20\n",
              "6.0           12\n",
              "7.0            4\n",
              "17.0           3\n",
              "9.0            3\n",
              "15.0           3\n",
              "60.0           2\n",
              "8.0            2\n",
              "13.0           2\n",
              "20.0           1\n",
              "10.0           1\n",
              "31.0           1\n",
              "44.0           1\n",
              "14.0           1\n",
              "182.0          1\n",
              "241.0          1\n",
              "168.0          1\n",
              "1327.0         1\n",
              "19.0           1\n",
              "30.0           1\n",
              "38.0           1\n",
              "1360.0         1\n",
              "12.0           1\n",
              "189.0          1\n",
              "16.0           1\n",
              "11.0           1\n",
              "Name: nkillus, dtype: int64"
            ]
          },
          "metadata": {
            "tags": []
          },
          "execution_count": 35
        }
      ]
    },
    {
      "cell_type": "code",
      "metadata": {
        "colab": {
          "base_uri": "https://localhost:8080/"
        },
        "id": "PXBQ7yXa_TSu",
        "outputId": "6806dd5b-f29e-43a6-9835-8fb52c25628c"
      },
      "source": [
        "df.nkillus.isnull().sum()"
      ],
      "execution_count": 36,
      "outputs": [
        {
          "output_type": "execute_result",
          "data": {
            "text/plain": [
              "64446"
            ]
          },
          "metadata": {
            "tags": []
          },
          "execution_count": 36
        }
      ]
    },
    {
      "cell_type": "code",
      "metadata": {
        "colab": {
          "base_uri": "https://localhost:8080/"
        },
        "id": "pgTGMb_r_Z_P",
        "outputId": "cdc070e4-2473-441a-ee5c-6a647435e212"
      },
      "source": [
        "df.nkillus.isnull().any()"
      ],
      "execution_count": 37,
      "outputs": [
        {
          "output_type": "execute_result",
          "data": {
            "text/plain": [
              "True"
            ]
          },
          "metadata": {
            "tags": []
          },
          "execution_count": 37
        }
      ]
    },
    {
      "cell_type": "code",
      "metadata": {
        "id": "-jLB_n4K_gWA"
      },
      "source": [
        "df['nkillus']=df['nkillus'].fillna(0)"
      ],
      "execution_count": 38,
      "outputs": []
    },
    {
      "cell_type": "code",
      "metadata": {
        "colab": {
          "base_uri": "https://localhost:8080/"
        },
        "id": "EKCqGNff_zd2",
        "outputId": "c2043c6e-63d7-4417-cd82-83dd795de50d"
      },
      "source": [
        "df.nkillus.isnull().any()"
      ],
      "execution_count": 39,
      "outputs": [
        {
          "output_type": "execute_result",
          "data": {
            "text/plain": [
              "False"
            ]
          },
          "metadata": {
            "tags": []
          },
          "execution_count": 39
        }
      ]
    },
    {
      "cell_type": "markdown",
      "metadata": {
        "id": "WcDnRpmmAMCJ"
      },
      "source": [
        "We are dealing with **NKILLTER** columns"
      ]
    },
    {
      "cell_type": "code",
      "metadata": {
        "colab": {
          "base_uri": "https://localhost:8080/"
        },
        "id": "G_YkrbDI_-cJ",
        "outputId": "2f4529c1-610e-4c2c-b88c-27d505c08ab3"
      },
      "source": [
        "df.nkillter.value_counts()"
      ],
      "execution_count": 40,
      "outputs": [
        {
          "output_type": "execute_result",
          "data": {
            "text/plain": [
              "0.0      101532\n",
              "1.0        6630\n",
              "2.0        1930\n",
              "3.0        1139\n",
              "4.0         699\n",
              "          ...  \n",
              "86.0          1\n",
              "156.0         1\n",
              "301.0         1\n",
              "300.0         1\n",
              "110.0         1\n",
              "Name: nkillter, Length: 96, dtype: int64"
            ]
          },
          "metadata": {
            "tags": []
          },
          "execution_count": 40
        }
      ]
    },
    {
      "cell_type": "code",
      "metadata": {
        "colab": {
          "base_uri": "https://localhost:8080/"
        },
        "id": "4c-1ruI8Addy",
        "outputId": "77f845ed-3dce-4d61-e9c5-7b6ab6b91502"
      },
      "source": [
        "df.nkillter.isnull().sum()"
      ],
      "execution_count": 41,
      "outputs": [
        {
          "output_type": "execute_result",
          "data": {
            "text/plain": [
              "66958"
            ]
          },
          "metadata": {
            "tags": []
          },
          "execution_count": 41
        }
      ]
    },
    {
      "cell_type": "code",
      "metadata": {
        "colab": {
          "base_uri": "https://localhost:8080/"
        },
        "id": "JkHsOeIlAkps",
        "outputId": "6a6cd4f6-d9a8-4ddc-fa06-0bb2c997a9f4"
      },
      "source": [
        "df.nkillter.isnull().any()"
      ],
      "execution_count": 42,
      "outputs": [
        {
          "output_type": "execute_result",
          "data": {
            "text/plain": [
              "True"
            ]
          },
          "metadata": {
            "tags": []
          },
          "execution_count": 42
        }
      ]
    },
    {
      "cell_type": "code",
      "metadata": {
        "id": "ASBIVPXtApRY"
      },
      "source": [
        "df['nkillter']=df['nkillter'].fillna(0)"
      ],
      "execution_count": 43,
      "outputs": []
    },
    {
      "cell_type": "code",
      "metadata": {
        "colab": {
          "base_uri": "https://localhost:8080/"
        },
        "id": "AoHBkuqGAyYF",
        "outputId": "a1453f64-39c0-4ca9-efb7-25f96efe53b6"
      },
      "source": [
        "df.nkillter.isnull().any()"
      ],
      "execution_count": 44,
      "outputs": [
        {
          "output_type": "execute_result",
          "data": {
            "text/plain": [
              "False"
            ]
          },
          "metadata": {
            "tags": []
          },
          "execution_count": 44
        }
      ]
    },
    {
      "cell_type": "markdown",
      "metadata": {
        "id": "VuSovP2GA33r"
      },
      "source": [
        "We are dealing with **NWOUND** columns"
      ]
    },
    {
      "cell_type": "code",
      "metadata": {
        "colab": {
          "base_uri": "https://localhost:8080/"
        },
        "id": "zOZT2z1MA2YO",
        "outputId": "bc745f1c-b6f0-4342-fdf8-91c97ed2e105"
      },
      "source": [
        "df.nwound.value_counts()"
      ],
      "execution_count": 45,
      "outputs": [
        {
          "output_type": "execute_result",
          "data": {
            "text/plain": [
              "0.0       103275\n",
              "1.0        16033\n",
              "2.0        10219\n",
              "3.0         7303\n",
              "4.0         4880\n",
              "           ...  \n",
              "1272.0         1\n",
              "184.0          1\n",
              "163.0          1\n",
              "319.0          1\n",
              "8191.0         1\n",
              "Name: nwound, Length: 238, dtype: int64"
            ]
          },
          "metadata": {
            "tags": []
          },
          "execution_count": 45
        }
      ]
    },
    {
      "cell_type": "code",
      "metadata": {
        "colab": {
          "base_uri": "https://localhost:8080/"
        },
        "id": "TseL89igBQ3V",
        "outputId": "84fe0cd5-ad1a-4a64-cc6c-82179ee7d89e"
      },
      "source": [
        "df.nwound.isnull().sum()"
      ],
      "execution_count": 46,
      "outputs": [
        {
          "output_type": "execute_result",
          "data": {
            "text/plain": [
              "16311"
            ]
          },
          "metadata": {
            "tags": []
          },
          "execution_count": 46
        }
      ]
    },
    {
      "cell_type": "code",
      "metadata": {
        "colab": {
          "base_uri": "https://localhost:8080/"
        },
        "id": "qGloB9yNBarA",
        "outputId": "7c177c57-ff8b-48b0-c788-3cb476ae78fc"
      },
      "source": [
        "df.nwound.isnull().any()"
      ],
      "execution_count": 47,
      "outputs": [
        {
          "output_type": "execute_result",
          "data": {
            "text/plain": [
              "True"
            ]
          },
          "metadata": {
            "tags": []
          },
          "execution_count": 47
        }
      ]
    },
    {
      "cell_type": "code",
      "metadata": {
        "id": "qCVddbI4Bfvm"
      },
      "source": [
        "df['nwound']=df['nwound'].fillna(0)"
      ],
      "execution_count": 48,
      "outputs": []
    },
    {
      "cell_type": "code",
      "metadata": {
        "colab": {
          "base_uri": "https://localhost:8080/"
        },
        "id": "XLFxTYACCDCv",
        "outputId": "8c4fb074-8ada-497a-c94c-80ca2459b800"
      },
      "source": [
        "df.nwound.isnull().any()"
      ],
      "execution_count": 49,
      "outputs": [
        {
          "output_type": "execute_result",
          "data": {
            "text/plain": [
              "False"
            ]
          },
          "metadata": {
            "tags": []
          },
          "execution_count": 49
        }
      ]
    },
    {
      "cell_type": "markdown",
      "metadata": {
        "id": "xp9IkaywCQaO"
      },
      "source": [
        "We are dealing with **NWOUNDUS** columns"
      ]
    },
    {
      "cell_type": "code",
      "metadata": {
        "colab": {
          "base_uri": "https://localhost:8080/"
        },
        "id": "F0CNPPQbCH1n",
        "outputId": "ae5bf59f-1d89-46b1-8638-0eab95e13dcd"
      },
      "source": [
        "df.nwoundus.value_counts()"
      ],
      "execution_count": 50,
      "outputs": [
        {
          "output_type": "execute_result",
          "data": {
            "text/plain": [
              "0.0      116342\n",
              "1.0         304\n",
              "2.0         112\n",
              "3.0          61\n",
              "4.0          36\n",
              "5.0          17\n",
              "7.0          15\n",
              "10.0         14\n",
              "6.0          12\n",
              "9.0          12\n",
              "8.0           9\n",
              "15.0          6\n",
              "11.0          6\n",
              "20.0          4\n",
              "17.0          3\n",
              "12.0          3\n",
              "13.0          2\n",
              "22.0          2\n",
              "75.0          2\n",
              "19.0          2\n",
              "14.0          2\n",
              "64.0          1\n",
              "57.0          1\n",
              "25.0          1\n",
              "18.0          1\n",
              "33.0          1\n",
              "24.0          1\n",
              "31.0          1\n",
              "101.0         1\n",
              "36.0          1\n",
              "48.0          1\n",
              "650.0         1\n",
              "16.0          1\n",
              "50.0          1\n",
              "37.0          1\n",
              "29.0          1\n",
              "151.0         1\n",
              "27.0          1\n",
              "751.0         1\n",
              "109.0         1\n",
              "38.0          1\n",
              "78.0          1\n",
              "77.0          1\n",
              "60.0          1\n",
              "Name: nwoundus, dtype: int64"
            ]
          },
          "metadata": {
            "tags": []
          },
          "execution_count": 50
        }
      ]
    },
    {
      "cell_type": "code",
      "metadata": {
        "colab": {
          "base_uri": "https://localhost:8080/"
        },
        "id": "xv3tt-fXCsjr",
        "outputId": "ac6d353d-ce61-4ccf-842d-d6d8145c0e7a"
      },
      "source": [
        "df.nwoundus.isnull().sum()"
      ],
      "execution_count": 51,
      "outputs": [
        {
          "output_type": "execute_result",
          "data": {
            "text/plain": [
              "64702"
            ]
          },
          "metadata": {
            "tags": []
          },
          "execution_count": 51
        }
      ]
    },
    {
      "cell_type": "code",
      "metadata": {
        "id": "tyhS2Gp4CzR6"
      },
      "source": [
        "df['nwoundus']=df['nwoundus'].fillna(0)"
      ],
      "execution_count": 52,
      "outputs": []
    },
    {
      "cell_type": "code",
      "metadata": {
        "colab": {
          "base_uri": "https://localhost:8080/"
        },
        "id": "NZIv6RcfDBFm",
        "outputId": "95357d05-50e2-4286-e5ce-48427a5520e3"
      },
      "source": [
        "df.nwoundus.isnull().any()"
      ],
      "execution_count": 53,
      "outputs": [
        {
          "output_type": "execute_result",
          "data": {
            "text/plain": [
              "False"
            ]
          },
          "metadata": {
            "tags": []
          },
          "execution_count": 53
        }
      ]
    },
    {
      "cell_type": "markdown",
      "metadata": {
        "id": "TC6RqpJbDPjr"
      },
      "source": [
        "We are dealing with **NWOUNDETE** columns"
      ]
    },
    {
      "cell_type": "code",
      "metadata": {
        "colab": {
          "base_uri": "https://localhost:8080/"
        },
        "id": "k2LmUVFVDHXb",
        "outputId": "0c7b28b8-4b30-4823-bc24-d44d938e402d"
      },
      "source": [
        "df.nwoundte.value_counts()"
      ],
      "execution_count": 54,
      "outputs": [
        {
          "output_type": "execute_result",
          "data": {
            "text/plain": [
              "0.0      110085\n",
              "1.0         906\n",
              "2.0         408\n",
              "3.0         266\n",
              "4.0         177\n",
              "5.0         110\n",
              "6.0         102\n",
              "7.0          67\n",
              "10.0         65\n",
              "8.0          55\n",
              "9.0          39\n",
              "11.0         35\n",
              "15.0         35\n",
              "13.0         29\n",
              "20.0         24\n",
              "12.0         24\n",
              "24.0         14\n",
              "14.0         13\n",
              "17.0         11\n",
              "30.0         10\n",
              "16.0          9\n",
              "18.0          6\n",
              "25.0          6\n",
              "21.0          5\n",
              "40.0          5\n",
              "19.0          4\n",
              "50.0          4\n",
              "60.0          4\n",
              "23.0          4\n",
              "26.0          3\n",
              "22.0          3\n",
              "35.0          3\n",
              "27.0          2\n",
              "51.0          2\n",
              "31.0          2\n",
              "100.0         2\n",
              "33.0          2\n",
              "53.0          1\n",
              "150.0         1\n",
              "38.0          1\n",
              "101.0         1\n",
              "62.0          1\n",
              "49.0          1\n",
              "200.0         1\n",
              "Name: nwoundte, dtype: int64"
            ]
          },
          "metadata": {
            "tags": []
          },
          "execution_count": 54
        }
      ]
    },
    {
      "cell_type": "code",
      "metadata": {
        "colab": {
          "base_uri": "https://localhost:8080/"
        },
        "id": "55WO055wDb3W",
        "outputId": "5b358c15-b885-4a46-8752-8918269cbdfe"
      },
      "source": [
        "df.nwoundte.isnull().sum()"
      ],
      "execution_count": 55,
      "outputs": [
        {
          "output_type": "execute_result",
          "data": {
            "text/plain": [
              "69143"
            ]
          },
          "metadata": {
            "tags": []
          },
          "execution_count": 55
        }
      ]
    },
    {
      "cell_type": "code",
      "metadata": {
        "colab": {
          "base_uri": "https://localhost:8080/"
        },
        "id": "bp0JVrw2Dge3",
        "outputId": "8d796c1e-2410-493b-e54b-1ea5d7938db1"
      },
      "source": [
        "df.nwoundte.isnull().any()"
      ],
      "execution_count": 56,
      "outputs": [
        {
          "output_type": "execute_result",
          "data": {
            "text/plain": [
              "True"
            ]
          },
          "metadata": {
            "tags": []
          },
          "execution_count": 56
        }
      ]
    },
    {
      "cell_type": "code",
      "metadata": {
        "id": "E3f6SWiDDlE3"
      },
      "source": [
        "df['nwoundte']=df['nwoundte'].fillna(0)"
      ],
      "execution_count": 57,
      "outputs": []
    },
    {
      "cell_type": "code",
      "metadata": {
        "colab": {
          "base_uri": "https://localhost:8080/"
        },
        "id": "bFscG4CSDtGa",
        "outputId": "1aedd1ea-f88e-492c-c662-5543d5c1d584"
      },
      "source": [
        "df.nwoundte.isnull().any()"
      ],
      "execution_count": 58,
      "outputs": [
        {
          "output_type": "execute_result",
          "data": {
            "text/plain": [
              "False"
            ]
          },
          "metadata": {
            "tags": []
          },
          "execution_count": 58
        }
      ]
    },
    {
      "cell_type": "code",
      "metadata": {
        "colab": {
          "base_uri": "https://localhost:8080/"
        },
        "id": "MDvdkBZmDxEX",
        "outputId": "89b18418-3ea9-45b7-c4e4-ced1281492c8"
      },
      "source": [
        "df.propextent.value_counts()"
      ],
      "execution_count": 59,
      "outputs": [
        {
          "output_type": "execute_result",
          "data": {
            "text/plain": [
              "3.0    43304\n",
              "4.0    19846\n",
              "2.0      909\n",
              "1.0        6\n",
              "Name: propextent, dtype: int64"
            ]
          },
          "metadata": {
            "tags": []
          },
          "execution_count": 59
        }
      ]
    },
    {
      "cell_type": "code",
      "metadata": {
        "colab": {
          "base_uri": "https://localhost:8080/"
        },
        "id": "7e4YPmWSEHud",
        "outputId": "3b11e548-0aea-4999-938f-d87a17237561"
      },
      "source": [
        "df.propextent.isnull().sum()"
      ],
      "execution_count": 60,
      "outputs": [
        {
          "output_type": "execute_result",
          "data": {
            "text/plain": [
              "117626"
            ]
          },
          "metadata": {
            "tags": []
          },
          "execution_count": 60
        }
      ]
    },
    {
      "cell_type": "code",
      "metadata": {
        "colab": {
          "base_uri": "https://localhost:8080/"
        },
        "id": "GaNOUkTyEU4D",
        "outputId": "d524cabf-5fff-41b0-8990-5523bfaee0cd"
      },
      "source": [
        "df.propextent.isnull().any()"
      ],
      "execution_count": 61,
      "outputs": [
        {
          "output_type": "execute_result",
          "data": {
            "text/plain": [
              "True"
            ]
          },
          "metadata": {
            "tags": []
          },
          "execution_count": 61
        }
      ]
    },
    {
      "cell_type": "code",
      "metadata": {
        "colab": {
          "base_uri": "https://localhost:8080/"
        },
        "id": "dKBPkLPnEZSn",
        "outputId": "a470b256-a195-4b5f-ad4b-3f875540b5d9"
      },
      "source": [
        "df.propextent.mode()"
      ],
      "execution_count": 62,
      "outputs": [
        {
          "output_type": "execute_result",
          "data": {
            "text/plain": [
              "0    3.0\n",
              "dtype: float64"
            ]
          },
          "metadata": {
            "tags": []
          },
          "execution_count": 62
        }
      ]
    },
    {
      "cell_type": "code",
      "metadata": {
        "colab": {
          "base_uri": "https://localhost:8080/"
        },
        "id": "g0c_VPv8EfOr",
        "outputId": "18379ebc-c65c-4a11-d089-b8354de59ab2"
      },
      "source": [
        "df.propextent.median()"
      ],
      "execution_count": 63,
      "outputs": [
        {
          "output_type": "execute_result",
          "data": {
            "text/plain": [
              "3.0"
            ]
          },
          "metadata": {
            "tags": []
          },
          "execution_count": 63
        }
      ]
    },
    {
      "cell_type": "code",
      "metadata": {
        "id": "E2Esz96vEjZ9"
      },
      "source": [
        "df['propextent']=df['propextent'].fillna(df['propextent'].mode()[0])"
      ],
      "execution_count": 65,
      "outputs": []
    },
    {
      "cell_type": "code",
      "metadata": {
        "colab": {
          "base_uri": "https://localhost:8080/"
        },
        "id": "FRZO6buNFEDT",
        "outputId": "2ca00c34-77f6-4b06-d9e0-11ef72325baf"
      },
      "source": [
        "df.propextent.isnull().any()"
      ],
      "execution_count": 66,
      "outputs": [
        {
          "output_type": "execute_result",
          "data": {
            "text/plain": [
              "False"
            ]
          },
          "metadata": {
            "tags": []
          },
          "execution_count": 66
        }
      ]
    },
    {
      "cell_type": "markdown",
      "metadata": {
        "id": "NJ9jIdE-FbRv"
      },
      "source": [
        "We are dealing with **ISHOSTKID** columns"
      ]
    },
    {
      "cell_type": "code",
      "metadata": {
        "colab": {
          "base_uri": "https://localhost:8080/"
        },
        "id": "qzvQgfFRFXs0",
        "outputId": "615de013-7bdd-402c-ca17-f285aa697c4f"
      },
      "source": [
        "df.ishostkid.value_counts()"
      ],
      "execution_count": 67,
      "outputs": [
        {
          "output_type": "execute_result",
          "data": {
            "text/plain": [
              " 0.0    167624\n",
              " 1.0     13572\n",
              "-9.0       317\n",
              "Name: ishostkid, dtype: int64"
            ]
          },
          "metadata": {
            "tags": []
          },
          "execution_count": 67
        }
      ]
    },
    {
      "cell_type": "code",
      "metadata": {
        "colab": {
          "base_uri": "https://localhost:8080/"
        },
        "id": "S26T9R_aF0oh",
        "outputId": "fb0ded5d-11f2-4d79-ad88-16cb2daf7bd9"
      },
      "source": [
        "df.ishostkid.isnull().sum()"
      ],
      "execution_count": 68,
      "outputs": [
        {
          "output_type": "execute_result",
          "data": {
            "text/plain": [
              "178"
            ]
          },
          "metadata": {
            "tags": []
          },
          "execution_count": 68
        }
      ]
    },
    {
      "cell_type": "code",
      "metadata": {
        "colab": {
          "base_uri": "https://localhost:8080/"
        },
        "id": "lDJH3cUsF9lU",
        "outputId": "8710c17c-1f65-4f07-c180-f63128e3d763"
      },
      "source": [
        "df.ishostkid.isnull().any()"
      ],
      "execution_count": 70,
      "outputs": [
        {
          "output_type": "execute_result",
          "data": {
            "text/plain": [
              "True"
            ]
          },
          "metadata": {
            "tags": []
          },
          "execution_count": 70
        }
      ]
    },
    {
      "cell_type": "code",
      "metadata": {
        "id": "7CdYMsu1GU0W"
      },
      "source": [
        "df['ishostkid']=df['ishostkid'].fillna(0)"
      ],
      "execution_count": 71,
      "outputs": []
    },
    {
      "cell_type": "code",
      "metadata": {
        "colab": {
          "base_uri": "https://localhost:8080/"
        },
        "id": "jII4TmVkGr8q",
        "outputId": "f94fbd51-a913-4d57-f8ce-5b0dbc31e191"
      },
      "source": [
        "df.ishostkid.isnull().any()"
      ],
      "execution_count": 72,
      "outputs": [
        {
          "output_type": "execute_result",
          "data": {
            "text/plain": [
              "False"
            ]
          },
          "metadata": {
            "tags": []
          },
          "execution_count": 72
        }
      ]
    },
    {
      "cell_type": "markdown",
      "metadata": {
        "id": "fYJdvmXCGydY"
      },
      "source": [
        "We are dealing with **RANSOM** columns"
      ]
    },
    {
      "cell_type": "code",
      "metadata": {
        "colab": {
          "base_uri": "https://localhost:8080/"
        },
        "id": "Ds4RR5--GwmC",
        "outputId": "024b39f6-0f68-477f-dd36-225c05cfde5a"
      },
      "source": [
        "df.ransom.value_counts()"
      ],
      "execution_count": 73,
      "outputs": [
        {
          "output_type": "execute_result",
          "data": {
            "text/plain": [
              " 0.0    74684\n",
              "-9.0     1398\n",
              " 1.0     1299\n",
              "Name: ransom, dtype: int64"
            ]
          },
          "metadata": {
            "tags": []
          },
          "execution_count": 73
        }
      ]
    },
    {
      "cell_type": "code",
      "metadata": {
        "colab": {
          "base_uri": "https://localhost:8080/"
        },
        "id": "9qUA6vt4HHvR",
        "outputId": "5d7e962d-5521-40ab-e750-02f786f5bd04"
      },
      "source": [
        "df.ransom.isnull().sum()"
      ],
      "execution_count": 74,
      "outputs": [
        {
          "output_type": "execute_result",
          "data": {
            "text/plain": [
              "104310"
            ]
          },
          "metadata": {
            "tags": []
          },
          "execution_count": 74
        }
      ]
    },
    {
      "cell_type": "code",
      "metadata": {
        "colab": {
          "base_uri": "https://localhost:8080/"
        },
        "id": "P7nsa3NCHR_q",
        "outputId": "5dd46ecd-c3cd-4e1d-853a-674a38fa11fe"
      },
      "source": [
        "df.ransom.isnull().any()"
      ],
      "execution_count": 75,
      "outputs": [
        {
          "output_type": "execute_result",
          "data": {
            "text/plain": [
              "True"
            ]
          },
          "metadata": {
            "tags": []
          },
          "execution_count": 75
        }
      ]
    },
    {
      "cell_type": "code",
      "metadata": {
        "id": "8qxd3oGjHVpO"
      },
      "source": [
        "df['ransom']=df['ransom'].fillna(0)"
      ],
      "execution_count": 76,
      "outputs": []
    },
    {
      "cell_type": "code",
      "metadata": {
        "colab": {
          "base_uri": "https://localhost:8080/"
        },
        "id": "JaR72HEKHbN_",
        "outputId": "5d33eaf5-18df-494e-bff5-9b4f20d8db95"
      },
      "source": [
        "df.ransom.isnull().any()"
      ],
      "execution_count": 77,
      "outputs": [
        {
          "output_type": "execute_result",
          "data": {
            "text/plain": [
              "False"
            ]
          },
          "metadata": {
            "tags": []
          },
          "execution_count": 77
        }
      ]
    },
    {
      "cell_type": "code",
      "metadata": {
        "colab": {
          "base_uri": "https://localhost:8080/",
          "height": 500
        },
        "id": "md-rXoN5HgYK",
        "outputId": "ae02c6f6-17d4-491c-8acc-5b34e5547c1b"
      },
      "source": [
        "plt.figure(figsize=(10,7))\r\n",
        "sns.heatmap(df.isnull(), cmap='coolwarm')"
      ],
      "execution_count": 78,
      "outputs": [
        {
          "output_type": "execute_result",
          "data": {
            "text/plain": [
              "<matplotlib.axes._subplots.AxesSubplot at 0x7f3729f7fa20>"
            ]
          },
          "metadata": {
            "tags": []
          },
          "execution_count": 78
        },
        {
          "output_type": "display_data",
          "data": {
            "image/png": "[encoded data removed]",
            "text/plain": [
              "<Figure size 720x504 with 2 Axes>"
            ]
          },
          "metadata": {
            "tags": [],
            "needs_background": "light"
          }
        }
      ]
    },
    {
      "cell_type": "markdown",
      "metadata": {
        "id": "C_Qvre0xH2-8"
      },
      "source": [
        "**Now we are dealing with CATEGORICAL columns**"
      ]
    },
    {
      "cell_type": "code",
      "metadata": {
        "colab": {
          "base_uri": "https://localhost:8080/"
        },
        "id": "tr1EzMTfHyRQ",
        "outputId": "b76a6f24-2c21-4293-c8bb-cb4e0374effb"
      },
      "source": [
        "cat_columns=[feature for feature in df.columns if df[feature].dtype == 'O']\r\n",
        "for i in cat_columns:\r\n",
        "  print(i)"
      ],
      "execution_count": 80,
      "outputs": [
        {
          "output_type": "stream",
          "text": [
            "provstate\n",
            "city\n",
            "gname\n"
          ],
          "name": "stdout"
        }
      ]
    },
    {
      "cell_type": "code",
      "metadata": {
        "colab": {
          "base_uri": "https://localhost:8080/"
        },
        "id": "2CvK0jg7I7i7",
        "outputId": "a2e9ecee-606e-4085-eef8-10f76fe64edd"
      },
      "source": [
        "df.provstate.value_counts()"
      ],
      "execution_count": 81,
      "outputs": [
        {
          "output_type": "execute_result",
          "data": {
            "text/plain": [
              "Baghdad                           7645\n",
              "Northern Ireland                  4498\n",
              "Unknown                           4290\n",
              "Balochistan                       3710\n",
              "Saladin                           3411\n",
              "                                  ... \n",
              "Mtskheta-Mtianeti                    1\n",
              "Karen (State)                        1\n",
              "Port-of-Spain City Corporation       1\n",
              "Meknes-Tafilalet                     1\n",
              "Queretaro (State)                    1\n",
              "Name: provstate, Length: 2855, dtype: int64"
            ]
          },
          "metadata": {
            "tags": []
          },
          "execution_count": 81
        }
      ]
    },
    {
      "cell_type": "code",
      "metadata": {
        "colab": {
          "base_uri": "https://localhost:8080/"
        },
        "id": "EXQLTpinJF5I",
        "outputId": "6fb2d12a-54e1-4091-d46d-1db75b4cb52a"
      },
      "source": [
        "df.city.value_counts()"
      ],
      "execution_count": 82,
      "outputs": [
        {
          "output_type": "execute_result",
          "data": {
            "text/plain": [
              "Unknown              9775\n",
              "Baghdad              7589\n",
              "Karachi              2652\n",
              "Lima                 2359\n",
              "Mosul                2265\n",
              "                     ... \n",
              "Madhyabindu             1\n",
              "Santo Tomas North       1\n",
              "Mandirari               1\n",
              "Siddiqabad              1\n",
              "Kunar                   1\n",
              "Name: city, Length: 36674, dtype: int64"
            ]
          },
          "metadata": {
            "tags": []
          },
          "execution_count": 82
        }
      ]
    },
    {
      "cell_type": "code",
      "metadata": {
        "colab": {
          "base_uri": "https://localhost:8080/"
        },
        "id": "_0YtviS0JJwr",
        "outputId": "2fc9d92a-b626-4b8f-acd5-db3ee3a5367e"
      },
      "source": [
        "df.gname.value_counts()"
      ],
      "execution_count": 85,
      "outputs": [
        {
          "output_type": "execute_result",
          "data": {
            "text/plain": [
              "Unknown                                                           82782\n",
              "Taliban                                                            7478\n",
              "Islamic State of Iraq and the Levant (ISIL)                        5613\n",
              "Shining Path (SL)                                                  4555\n",
              "Farabundo Marti National Liberation Front (FMLN)                   3351\n",
              "                                                                  ...  \n",
              "Arnoldo Camu Command                                                  1\n",
              "No Borders Group                                                      1\n",
              "Abdul Qader Husseini Battalions of the Free Palestine movement        1\n",
              "Mustafa Aktas Fighting Unit                                           1\n",
              "Uganda Democratic Christian Army (UDCA)                               1\n",
              "Name: gname, Length: 3537, dtype: int64"
            ]
          },
          "metadata": {
            "tags": []
          },
          "execution_count": 85
        }
      ]
    },
    {
      "cell_type": "code",
      "metadata": {
        "id": "i9f4R81sJNNn"
      },
      "source": [
        "from sklearn.preprocessing import  LabelEncoder\r\n",
        "le=LabelEncoder()\r\n",
        "cat_feature=['provstate', 'city','gname']\r\n",
        "\r\n",
        "for col in cat_feature:\r\n",
        "  if col in df.columns:\r\n",
        "    i=df.columns.get_loc(col) \r\n",
        "    df.iloc[:,i]=df.apply(lambda i: le.fit_transform(i.astype(str)),axis=0,result_type='expand')"
      ],
      "execution_count": 88,
      "outputs": []
    },
    {
      "cell_type": "code",
      "metadata": {
        "colab": {
          "base_uri": "https://localhost:8080/",
          "height": 217
        },
        "id": "gMz7YiSfLNL2",
        "outputId": "c672c897-df2b-491a-850f-42b1899846be"
      },
      "source": [
        "df.head()"
      ],
      "execution_count": 89,
      "outputs": [
        {
          "output_type": "execute_result",
          "data": {
            "text/html": [
              "<div>\n",
              "<style scoped>\n",
              "    .dataframe tbody tr th:only-of-type {\n",
              "        vertical-align: middle;\n",
              "    }\n",
              "\n",
              "    .dataframe tbody tr th {\n",
              "        vertical-align: top;\n",
              "    }\n",
              "\n",
              "    .dataframe thead th {\n",
              "        text-align: right;\n",
              "    }\n",
              "</style>\n",
              "<table border=\"1\" class=\"dataframe\">\n",
              "  <thead>\n",
              "    <tr style=\"text-align: right;\">\n",
              "      <th></th>\n",
              "      <th>iyear</th>\n",
              "      <th>imonth</th>\n",
              "      <th>iday</th>\n",
              "      <th>extended</th>\n",
              "      <th>country</th>\n",
              "      <th>region</th>\n",
              "      <th>provstate</th>\n",
              "      <th>city</th>\n",
              "      <th>specificity</th>\n",
              "      <th>vicinity</th>\n",
              "      <th>crit1</th>\n",
              "      <th>crit2</th>\n",
              "      <th>crit3</th>\n",
              "      <th>doubtterr</th>\n",
              "      <th>multiple</th>\n",
              "      <th>success</th>\n",
              "      <th>suicide</th>\n",
              "      <th>attacktype1</th>\n",
              "      <th>targtype1</th>\n",
              "      <th>natlty1</th>\n",
              "      <th>gname</th>\n",
              "      <th>individual</th>\n",
              "      <th>weaptype1</th>\n",
              "      <th>nkillus</th>\n",
              "      <th>nkillter</th>\n",
              "      <th>nwound</th>\n",
              "      <th>nwoundus</th>\n",
              "      <th>nwoundte</th>\n",
              "      <th>property</th>\n",
              "      <th>propextent</th>\n",
              "      <th>ishostkid</th>\n",
              "      <th>ransom</th>\n",
              "    </tr>\n",
              "  </thead>\n",
              "  <tbody>\n",
              "    <tr>\n",
              "      <th>0</th>\n",
              "      <td>1970</td>\n",
              "      <td>7</td>\n",
              "      <td>2</td>\n",
              "      <td>0</td>\n",
              "      <td>58</td>\n",
              "      <td>2</td>\n",
              "      <td>2056</td>\n",
              "      <td>22009</td>\n",
              "      <td>1.0</td>\n",
              "      <td>0</td>\n",
              "      <td>1</td>\n",
              "      <td>1</td>\n",
              "      <td>1</td>\n",
              "      <td>0.0</td>\n",
              "      <td>0.0</td>\n",
              "      <td>1</td>\n",
              "      <td>0</td>\n",
              "      <td>1</td>\n",
              "      <td>14</td>\n",
              "      <td>58.0</td>\n",
              "      <td>1907</td>\n",
              "      <td>0</td>\n",
              "      <td>13</td>\n",
              "      <td>0.0</td>\n",
              "      <td>0.0</td>\n",
              "      <td>0.0</td>\n",
              "      <td>0.0</td>\n",
              "      <td>0.0</td>\n",
              "      <td>0</td>\n",
              "      <td>3.0</td>\n",
              "      <td>0.0</td>\n",
              "      <td>0.0</td>\n",
              "    </tr>\n",
              "    <tr>\n",
              "      <th>1</th>\n",
              "      <td>1970</td>\n",
              "      <td>0</td>\n",
              "      <td>0</td>\n",
              "      <td>0</td>\n",
              "      <td>130</td>\n",
              "      <td>1</td>\n",
              "      <td>2615</td>\n",
              "      <td>13521</td>\n",
              "      <td>1.0</td>\n",
              "      <td>0</td>\n",
              "      <td>1</td>\n",
              "      <td>1</td>\n",
              "      <td>1</td>\n",
              "      <td>0.0</td>\n",
              "      <td>0.0</td>\n",
              "      <td>1</td>\n",
              "      <td>0</td>\n",
              "      <td>6</td>\n",
              "      <td>7</td>\n",
              "      <td>21.0</td>\n",
              "      <td>13</td>\n",
              "      <td>0</td>\n",
              "      <td>13</td>\n",
              "      <td>0.0</td>\n",
              "      <td>0.0</td>\n",
              "      <td>0.0</td>\n",
              "      <td>0.0</td>\n",
              "      <td>0.0</td>\n",
              "      <td>0</td>\n",
              "      <td>3.0</td>\n",
              "      <td>1.0</td>\n",
              "      <td>1.0</td>\n",
              "    </tr>\n",
              "    <tr>\n",
              "      <th>2</th>\n",
              "      <td>1970</td>\n",
              "      <td>1</td>\n",
              "      <td>0</td>\n",
              "      <td>0</td>\n",
              "      <td>160</td>\n",
              "      <td>5</td>\n",
              "      <td>1665</td>\n",
              "      <td>27244</td>\n",
              "      <td>4.0</td>\n",
              "      <td>0</td>\n",
              "      <td>1</td>\n",
              "      <td>1</td>\n",
              "      <td>1</td>\n",
              "      <td>0.0</td>\n",
              "      <td>0.0</td>\n",
              "      <td>1</td>\n",
              "      <td>0</td>\n",
              "      <td>1</td>\n",
              "      <td>10</td>\n",
              "      <td>217.0</td>\n",
              "      <td>3408</td>\n",
              "      <td>0</td>\n",
              "      <td>13</td>\n",
              "      <td>0.0</td>\n",
              "      <td>0.0</td>\n",
              "      <td>0.0</td>\n",
              "      <td>0.0</td>\n",
              "      <td>0.0</td>\n",
              "      <td>0</td>\n",
              "      <td>3.0</td>\n",
              "      <td>0.0</td>\n",
              "      <td>0.0</td>\n",
              "    </tr>\n",
              "    <tr>\n",
              "      <th>3</th>\n",
              "      <td>1970</td>\n",
              "      <td>1</td>\n",
              "      <td>0</td>\n",
              "      <td>0</td>\n",
              "      <td>78</td>\n",
              "      <td>8</td>\n",
              "      <td>935</td>\n",
              "      <td>16814</td>\n",
              "      <td>1.0</td>\n",
              "      <td>0</td>\n",
              "      <td>1</td>\n",
              "      <td>1</td>\n",
              "      <td>1</td>\n",
              "      <td>0.0</td>\n",
              "      <td>0.0</td>\n",
              "      <td>1</td>\n",
              "      <td>0</td>\n",
              "      <td>3</td>\n",
              "      <td>7</td>\n",
              "      <td>217.0</td>\n",
              "      <td>3408</td>\n",
              "      <td>0</td>\n",
              "      <td>6</td>\n",
              "      <td>0.0</td>\n",
              "      <td>0.0</td>\n",
              "      <td>0.0</td>\n",
              "      <td>0.0</td>\n",
              "      <td>0.0</td>\n",
              "      <td>1</td>\n",
              "      <td>3.0</td>\n",
              "      <td>0.0</td>\n",
              "      <td>0.0</td>\n",
              "    </tr>\n",
              "    <tr>\n",
              "      <th>4</th>\n",
              "      <td>1970</td>\n",
              "      <td>1</td>\n",
              "      <td>0</td>\n",
              "      <td>0</td>\n",
              "      <td>101</td>\n",
              "      <td>4</td>\n",
              "      <td>2644</td>\n",
              "      <td>1408</td>\n",
              "      <td>1.0</td>\n",
              "      <td>0</td>\n",
              "      <td>1</td>\n",
              "      <td>1</td>\n",
              "      <td>1</td>\n",
              "      <td>-9.0</td>\n",
              "      <td>0.0</td>\n",
              "      <td>1</td>\n",
              "      <td>0</td>\n",
              "      <td>7</td>\n",
              "      <td>7</td>\n",
              "      <td>217.0</td>\n",
              "      <td>3408</td>\n",
              "      <td>0</td>\n",
              "      <td>8</td>\n",
              "      <td>0.0</td>\n",
              "      <td>0.0</td>\n",
              "      <td>0.0</td>\n",
              "      <td>0.0</td>\n",
              "      <td>0.0</td>\n",
              "      <td>1</td>\n",
              "      <td>3.0</td>\n",
              "      <td>0.0</td>\n",
              "      <td>0.0</td>\n",
              "    </tr>\n",
              "  </tbody>\n",
              "</table>\n",
              "</div>"
            ],
            "text/plain": [
              "   iyear  imonth  iday  extended  country  region  provstate   city  \\\n",
              "0   1970       7     2         0       58       2       2056  22009   \n",
              "1   1970       0     0         0      130       1       2615  13521   \n",
              "2   1970       1     0         0      160       5       1665  27244   \n",
              "3   1970       1     0         0       78       8        935  16814   \n",
              "4   1970       1     0         0      101       4       2644   1408   \n",
              "\n",
              "   specificity  vicinity  crit1  crit2  crit3  doubtterr  multiple  success  \\\n",
              "0          1.0         0      1      1      1        0.0       0.0        1   \n",
              "1          1.0         0      1      1      1        0.0       0.0        1   \n",
              "2          4.0         0      1      1      1        0.0       0.0        1   \n",
              "3          1.0         0      1      1      1        0.0       0.0        1   \n",
              "4          1.0         0      1      1      1       -9.0       0.0        1   \n",
              "\n",
              "   suicide  attacktype1  targtype1  natlty1  gname  individual  weaptype1  \\\n",
              "0        0            1         14     58.0   1907           0         13   \n",
              "1        0            6          7     21.0     13           0         13   \n",
              "2        0            1         10    217.0   3408           0         13   \n",
              "3        0            3          7    217.0   3408           0          6   \n",
              "4        0            7          7    217.0   3408           0          8   \n",
              "\n",
              "   nkillus  nkillter  nwound  nwoundus  nwoundte  property  propextent  \\\n",
              "0      0.0       0.0     0.0       0.0       0.0         0         3.0   \n",
              "1      0.0       0.0     0.0       0.0       0.0         0         3.0   \n",
              "2      0.0       0.0     0.0       0.0       0.0         0         3.0   \n",
              "3      0.0       0.0     0.0       0.0       0.0         1         3.0   \n",
              "4      0.0       0.0     0.0       0.0       0.0         1         3.0   \n",
              "\n",
              "   ishostkid  ransom  \n",
              "0        0.0     0.0  \n",
              "1        1.0     1.0  \n",
              "2        0.0     0.0  \n",
              "3        0.0     0.0  \n",
              "4        0.0     0.0  "
            ]
          },
          "metadata": {
            "tags": []
          },
          "execution_count": 89
        }
      ]
    },
    {
      "cell_type": "code",
      "metadata": {
        "colab": {
          "base_uri": "https://localhost:8080/"
        },
        "id": "PQONw1o9LROm",
        "outputId": "9ae20005-c928-468d-8b09-b1c7245ea1d1"
      },
      "source": [
        "df.isnull().any()"
      ],
      "execution_count": 90,
      "outputs": [
        {
          "output_type": "execute_result",
          "data": {
            "text/plain": [
              "iyear          False\n",
              "imonth         False\n",
              "iday           False\n",
              "extended       False\n",
              "country        False\n",
              "region         False\n",
              "provstate      False\n",
              "city           False\n",
              "specificity    False\n",
              "vicinity       False\n",
              "crit1          False\n",
              "crit2          False\n",
              "crit3          False\n",
              "doubtterr      False\n",
              "multiple       False\n",
              "success        False\n",
              "suicide        False\n",
              "attacktype1    False\n",
              "targtype1      False\n",
              "natlty1        False\n",
              "gname          False\n",
              "individual     False\n",
              "weaptype1      False\n",
              "nkillus        False\n",
              "nkillter       False\n",
              "nwound         False\n",
              "nwoundus       False\n",
              "nwoundte       False\n",
              "property       False\n",
              "propextent     False\n",
              "ishostkid      False\n",
              "ransom         False\n",
              "dtype: bool"
            ]
          },
          "metadata": {
            "tags": []
          },
          "execution_count": 90
        }
      ]
    },
    {
      "cell_type": "code",
      "metadata": {
        "colab": {
          "base_uri": "https://localhost:8080/"
        },
        "id": "7NOyRkoALh6j",
        "outputId": "9489e9dd-4d23-478b-dc6a-647f8ee0f08e"
      },
      "source": [
        "for columns in df.columns:\r\n",
        "  df[columns]=df[columns].astype(int)\r\n",
        "\r\n",
        "df.info()"
      ],
      "execution_count": 91,
      "outputs": [
        {
          "output_type": "stream",
          "text": [
            "<class 'pandas.core.frame.DataFrame'>\n",
            "RangeIndex: 181691 entries, 0 to 181690\n",
            "Data columns (total 32 columns):\n",
            " #   Column       Non-Null Count   Dtype\n",
            "---  ------       --------------   -----\n",
            " 0   iyear        181691 non-null  int64\n",
            " 1   imonth       181691 non-null  int64\n",
            " 2   iday         181691 non-null  int64\n",
            " 3   extended     181691 non-null  int64\n",
            " 4   country      181691 non-null  int64\n",
            " 5   region       181691 non-null  int64\n",
            " 6   provstate    181691 non-null  int64\n",
            " 7   city         181691 non-null  int64\n",
            " 8   specificity  181691 non-null  int64\n",
            " 9   vicinity     181691 non-null  int64\n",
            " 10  crit1        181691 non-null  int64\n",
            " 11  crit2        181691 non-null  int64\n",
            " 12  crit3        181691 non-null  int64\n",
            " 13  doubtterr    181691 non-null  int64\n",
            " 14  multiple     181691 non-null  int64\n",
            " 15  success      181691 non-null  int64\n",
            " 16  suicide      181691 non-null  int64\n",
            " 17  attacktype1  181691 non-null  int64\n",
            " 18  targtype1    181691 non-null  int64\n",
            " 19  natlty1      181691 non-null  int64\n",
            " 20  gname        181691 non-null  int64\n",
            " 21  individual   181691 non-null  int64\n",
            " 22  weaptype1    181691 non-null  int64\n",
            " 23  nkillus      181691 non-null  int64\n",
            " 24  nkillter     181691 non-null  int64\n",
            " 25  nwound       181691 non-null  int64\n",
            " 26  nwoundus     181691 non-null  int64\n",
            " 27  nwoundte     181691 non-null  int64\n",
            " 28  property     181691 non-null  int64\n",
            " 29  propextent   181691 non-null  int64\n",
            " 30  ishostkid    181691 non-null  int64\n",
            " 31  ransom       181691 non-null  int64\n",
            "dtypes: int64(32)\n",
            "memory usage: 44.4 MB\n"
          ],
          "name": "stdout"
        }
      ]
    },
    {
      "cell_type": "code",
      "metadata": {
        "id": "GFI5XloqLyU4"
      },
      "source": [
        "df.to_csv('/content/mydrive/MyDrive/Colab Notebooks 2/Terrorist Prediction/Cleaned Data.csv')"
      ],
      "execution_count": 92,
      "outputs": []
    },
    {
      "cell_type": "code",
      "metadata": {
        "id": "BQj-Rqj7MI2e"
      },
      "source": [
        ""
      ],
      "execution_count": null,
      "outputs": []
    }
  ]
}